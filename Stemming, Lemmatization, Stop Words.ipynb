{
 "cells": [
  {
   "cell_type": "markdown",
   "metadata": {},
   "source": [
    "# Stemming"
   ]
  },
  {
   "cell_type": "code",
   "execution_count": 1,
   "metadata": {},
   "outputs": [],
   "source": [
    "import nltk"
   ]
  },
  {
   "cell_type": "code",
   "execution_count": 2,
   "metadata": {},
   "outputs": [],
   "source": [
    "from nltk.stem.porter import PorterStemmer"
   ]
  },
  {
   "cell_type": "code",
   "execution_count": 3,
   "metadata": {},
   "outputs": [],
   "source": [
    "p_stemmer = PorterStemmer()"
   ]
  },
  {
   "cell_type": "code",
   "execution_count": 4,
   "metadata": {},
   "outputs": [],
   "source": [
    "words = ['run','runner','ran','runs','easily','fairly']"
   ]
  },
  {
   "cell_type": "code",
   "execution_count": 7,
   "metadata": {},
   "outputs": [
    {
     "name": "stdout",
     "output_type": "stream",
     "text": [
      "run ----> run\n",
      "runner ----> runner\n",
      "ran ----> ran\n",
      "runs ----> run\n",
      "easily ----> easili\n",
      "fairly ----> fairli\n"
     ]
    }
   ],
   "source": [
    "for word in words:\n",
    "    print(word + ' ----> ' + p_stemmer.stem(word))"
   ]
  },
  {
   "cell_type": "code",
   "execution_count": 8,
   "metadata": {},
   "outputs": [],
   "source": [
    "from nltk.stem.snowball import SnowballStemmer"
   ]
  },
  {
   "cell_type": "code",
   "execution_count": 9,
   "metadata": {},
   "outputs": [],
   "source": [
    "s_stemmer = SnowballStemmer(language='english')"
   ]
  },
  {
   "cell_type": "code",
   "execution_count": 11,
   "metadata": {},
   "outputs": [
    {
     "name": "stdout",
     "output_type": "stream",
     "text": [
      "run ----> run\n",
      "runner ----> runner\n",
      "ran ----> ran\n",
      "runs ----> run\n",
      "easily ----> easili\n",
      "fairly ----> fair\n"
     ]
    }
   ],
   "source": [
    "for word in words:\n",
    "    print(word + ' ----> ' + s_stemmer.stem(word))"
   ]
  },
  {
   "cell_type": "code",
   "execution_count": 15,
   "metadata": {},
   "outputs": [],
   "source": [
    "words = ['generous','generation','generously','generate']"
   ]
  },
  {
   "cell_type": "code",
   "execution_count": 16,
   "metadata": {},
   "outputs": [
    {
     "name": "stdout",
     "output_type": "stream",
     "text": [
      "generous ----> generous\n",
      "generation ----> generat\n",
      "generously ----> generous\n",
      "generate ----> generat\n"
     ]
    }
   ],
   "source": [
    "for word in words:\n",
    "    print(word + ' ----> ' + s_stemmer.stem(word))"
   ]
  },
  {
   "cell_type": "markdown",
   "metadata": {},
   "source": [
    "# Lemmatization"
   ]
  },
  {
   "cell_type": "code",
   "execution_count": 18,
   "metadata": {},
   "outputs": [],
   "source": [
    "import spacy"
   ]
  },
  {
   "cell_type": "code",
   "execution_count": 19,
   "metadata": {},
   "outputs": [],
   "source": [
    "nlp = spacy.load('en_core_web_sm')"
   ]
  },
  {
   "cell_type": "code",
   "execution_count": 20,
   "metadata": {},
   "outputs": [],
   "source": [
    "doc1 = nlp(u\"I am a runner running in a race because I love to run since I ran today\")"
   ]
  },
  {
   "cell_type": "code",
   "execution_count": 21,
   "metadata": {},
   "outputs": [
    {
     "name": "stdout",
     "output_type": "stream",
     "text": [
      "I \t PRON \t 561228191312463089 \t -PRON-\n",
      "am \t AUX \t 10382539506755952630 \t be\n",
      "a \t DET \t 11901859001352538922 \t a\n",
      "runner \t NOUN \t 12640964157389618806 \t runner\n",
      "running \t VERB \t 12767647472892411841 \t run\n",
      "in \t ADP \t 3002984154512732771 \t in\n",
      "a \t DET \t 11901859001352538922 \t a\n",
      "race \t NOUN \t 8048469955494714898 \t race\n",
      "because \t SCONJ \t 16950148841647037698 \t because\n",
      "I \t PRON \t 561228191312463089 \t -PRON-\n",
      "love \t VERB \t 3702023516439754181 \t love\n",
      "to \t PART \t 3791531372978436496 \t to\n",
      "run \t VERB \t 12767647472892411841 \t run\n",
      "since \t SCONJ \t 10066841407251338481 \t since\n",
      "I \t PRON \t 561228191312463089 \t -PRON-\n",
      "ran \t VERB \t 12767647472892411841 \t run\n",
      "today \t NOUN \t 11042482332948150395 \t today\n"
     ]
    }
   ],
   "source": [
    "for token in doc1:\n",
    "    print(token.text,'\\t',token.pos_,'\\t',token.lemma,'\\t',token.lemma_)"
   ]
  },
  {
   "cell_type": "code",
   "execution_count": 22,
   "metadata": {},
   "outputs": [],
   "source": [
    "def show_lemmas(text):\n",
    "    for token in text:\n",
    "        print(f'{token.text:{12}} {token.pos_:{6}} {token.lemma:<{22}} {token.lemma_}')"
   ]
  },
  {
   "cell_type": "code",
   "execution_count": 23,
   "metadata": {},
   "outputs": [
    {
     "name": "stdout",
     "output_type": "stream",
     "text": [
      "I            PRON   561228191312463089     -PRON-\n",
      "am           AUX    10382539506755952630   be\n",
      "a            DET    11901859001352538922   a\n",
      "runner       NOUN   12640964157389618806   runner\n",
      "running      VERB   12767647472892411841   run\n",
      "in           ADP    3002984154512732771    in\n",
      "a            DET    11901859001352538922   a\n",
      "race         NOUN   8048469955494714898    race\n",
      "because      SCONJ  16950148841647037698   because\n",
      "I            PRON   561228191312463089     -PRON-\n",
      "love         VERB   3702023516439754181    love\n",
      "to           PART   3791531372978436496    to\n",
      "run          VERB   12767647472892411841   run\n",
      "since        SCONJ  10066841407251338481   since\n",
      "I            PRON   561228191312463089     -PRON-\n",
      "ran          VERB   12767647472892411841   run\n",
      "today        NOUN   11042482332948150395   today\n"
     ]
    }
   ],
   "source": [
    "show_lemmas(doc1)"
   ]
  },
  {
   "cell_type": "markdown",
   "metadata": {},
   "source": [
    "# Stop words"
   ]
  },
  {
   "cell_type": "code",
   "execution_count": 24,
   "metadata": {},
   "outputs": [
    {
     "name": "stdout",
     "output_type": "stream",
     "text": [
      "{'what', 'five', 'name', 'whoever', 'onto', 'everywhere', \"'re\", 'seemed', 'whereby', 'was', 'fifty', 'through', 'as', 'mostly', 'four', 'seeming', 'himself', 'ours', 'somehow', 'hers', 'in', 'they', 'whether', 'give', 'at', 'former', 'whole', 'same', 'last', 'serious', 'too', 'six', 'even', 'around', 'than', 'never', 'since', 'other', 'eight', 'always', 'hereby', 'those', 'side', 'a', 'third', 'whatever', 'more', 'that', 'anywhere', 'ca', 'still', 'nevertheless', 'without', 'using', 'meanwhile', 'does', 'afterwards', '‘ve', 'by', 'thereupon', 'should', 'thru', 'often', 'everyone', 'sixty', 'make', 'anything', 'once', 'least', 'her', 'three', \"n't\", 'n’t', 'therefore', 'yet', 'nothing', 'next', 'its', 'thereby', 'be', 'when', 'your', 'alone', 'over', 'hereafter', 'namely', 'others', 'hundred', 'nowhere', 'wherever', 'doing', 'have', 'wherein', 'whereupon', 'do', 'somewhere', 'another', 'but', 'whence', 'only', 'how', 'whereafter', 'please', 'take', 'about', '‘d', 'themselves', 'under', 'most', 'hence', 'where', 'anyway', 'became', 'against', 'enough', 'why', 'fifteen', 'across', 'however', 'who', 'up', 'first', 'them', 'along', 'top', 'whither', 'n‘t', \"'ll\", 'much', 'rather', 'being', 'below', 'could', 'then', 'the', 'can', 'besides', 'or', 'whose', 'go', 'latter', 'were', 'nor', 'some', 'cannot', 'twenty', 'done', 'down', 'made', 'again', 'herself', 'me', 'she', 'because', 'yourselves', 'anyone', 'back', 'one', 'used', \"'s\", 'none', 'such', 'toward', 'is', 'together', 'must', 'out', 'beforehand', 'from', 'he', 'each', 'to', 'forty', 'via', 'yours', 'empty', 'call', 'own', '’m', 'their', 'i', 'on', 'it', 'otherwise', 'per', '‘ll', 'between', 'hereupon', 'no', 'above', 'already', 'keep', 'else', 'during', 'nobody', 'bottom', 'although', 'an', 'thence', 'him', 'everything', 'myself', 'few', 'neither', 'before', 'moreover', 'so', 'get', 'see', 'into', '’s', 'itself', 'which', 'say', 'become', 'whenever', 'very', 'though', 'perhaps', 'move', 'sometime', 'all', 'towards', '’d', 'did', 'would', 'eleven', \"'d\", 'less', 'with', 'off', 'among', \"'ve\", 'part', 'beside', 'upon', 'now', 'my', 'not', 'noone', 'ten', 'thus', 'might', 'us', '’re', 'has', 'latterly', 'until', 'may', 'further', 'been', 'his', 'seems', 'sometimes', 'front', 'seem', '‘m', 'ourselves', 'ever', 'after', 'whom', 'behind', 'becoming', 'indeed', 'both', 'also', 'regarding', 'unless', 'thereafter', 'show', 'this', 'we', 'any', 'due', 'therein', 'formerly', 'and', 'really', '’ve', '‘re', 'are', 'several', 'twelve', 'for', 'almost', 'you', 'here', 'various', 'beyond', 'quite', 'something', 'yourself', \"'m\", 'our', 'these', 'within', 'will', 'becomes', '‘s', 'except', 'amount', 'just', 'of', 'mine', '’ll', 'nine', 'full', 'am', 'two', 'amongst', 'someone', 'either', 'every', 'if', 'there', 'elsewhere', 'put', 're', 'herein', 'anyhow', 'while', 'well', 'many', 'throughout', 'had', 'whereas'}\n"
     ]
    }
   ],
   "source": [
    "print(nlp.Defaults.stop_words)"
   ]
  },
  {
   "cell_type": "code",
   "execution_count": 26,
   "metadata": {},
   "outputs": [
    {
     "data": {
      "text/plain": [
       "True"
      ]
     },
     "execution_count": 26,
     "metadata": {},
     "output_type": "execute_result"
    }
   ],
   "source": [
    "nlp.vocab['is'].is_stop"
   ]
  },
  {
   "cell_type": "code",
   "execution_count": 27,
   "metadata": {},
   "outputs": [],
   "source": [
    "nlp.Defaults.stop_words.add('btw')"
   ]
  },
  {
   "cell_type": "code",
   "execution_count": 30,
   "metadata": {},
   "outputs": [
    {
     "data": {
      "text/plain": [
       "True"
      ]
     },
     "execution_count": 30,
     "metadata": {},
     "output_type": "execute_result"
    }
   ],
   "source": [
    "nlp.vocab['btw'].is_stop"
   ]
  },
  {
   "cell_type": "code",
   "execution_count": 31,
   "metadata": {},
   "outputs": [
    {
     "data": {
      "text/plain": [
       "327"
      ]
     },
     "execution_count": 31,
     "metadata": {},
     "output_type": "execute_result"
    }
   ],
   "source": [
    "len(nlp.Defaults.stop_words)"
   ]
  },
  {
   "cell_type": "code",
   "execution_count": 34,
   "metadata": {},
   "outputs": [],
   "source": [
    "nlp.Defaults.stop_words.remove('btw')"
   ]
  },
  {
   "cell_type": "code",
   "execution_count": 35,
   "metadata": {},
   "outputs": [
    {
     "data": {
      "text/plain": [
       "326"
      ]
     },
     "execution_count": 35,
     "metadata": {},
     "output_type": "execute_result"
    }
   ],
   "source": [
    "len(nlp.Defaults.stop_words)"
   ]
  },
  {
   "cell_type": "code",
   "execution_count": null,
   "metadata": {},
   "outputs": [],
   "source": []
  }
 ],
 "metadata": {
  "kernelspec": {
   "display_name": "Python 3",
   "language": "python",
   "name": "python3"
  },
  "language_info": {
   "codemirror_mode": {
    "name": "ipython",
    "version": 3
   },
   "file_extension": ".py",
   "mimetype": "text/x-python",
   "name": "python",
   "nbconvert_exporter": "python",
   "pygments_lexer": "ipython3",
   "version": "3.8.0"
  }
 },
 "nbformat": 4,
 "nbformat_minor": 4
}
